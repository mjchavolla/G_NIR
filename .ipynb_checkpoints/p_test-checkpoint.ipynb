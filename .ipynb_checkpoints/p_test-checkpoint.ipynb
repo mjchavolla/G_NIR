{
 "cells": [
  {
   "cell_type": "markdown",
   "id": "548c88ed",
   "metadata": {},
   "source": [
    "# Parameter Class GAIA-NIR"
   ]
  },
  {
   "cell_type": "code",
   "execution_count": 2,
   "id": "c210cbd4",
   "metadata": {},
   "outputs": [],
   "source": [
    "class Parameters:\n",
    "    \"\"\"\n",
    "    Class to handle simulation parameters.\n",
    "    \"\"\"\n",
    "    def __init__(self):\n",
    "    \n",
    "        #Initialize default simulation parameters.\n",
    "        #print(\"Initializing default parameters\")\n",
    "        \n",
    "        # Simulation controls\n",
    "        self.convert_units = True\n",
    "        self.degrade_resolving_power = True\n",
    "        self.num_output_spectra = 1  \n",
    "        self.resolving_power = 11500  # Gaia's resolving power\n",
    "        self.fwhm_wavelength = 0.75  # FWHM in Angstroms (0.75 Å)\n",
    "        self.pixel_size = 0.25  # Å \n",
    "        self.reference_range = (8550, 8650)  # Wavelength range for rescaling\n",
    "        self.snr = 50  # Default SNR value for synthetic spectrum"
   ]
  },
  {
   "cell_type": "code",
   "execution_count": 2,
   "id": "b7e8dc94",
   "metadata": {},
   "outputs": [],
   "source": [
    "\n"
   ]
  },
  {
   "cell_type": "code",
   "execution_count": null,
   "id": "1534cea9",
   "metadata": {},
   "outputs": [],
   "source": []
  }
 ],
 "metadata": {
  "kernelspec": {
   "display_name": "Python 3 (ipykernel)",
   "language": "python",
   "name": "python3"
  },
  "language_info": {
   "codemirror_mode": {
    "name": "ipython",
    "version": 3
   },
   "file_extension": ".py",
   "mimetype": "text/x-python",
   "name": "python",
   "nbconvert_exporter": "python",
   "pygments_lexer": "ipython3",
   "version": "3.9.12"
  }
 },
 "nbformat": 4,
 "nbformat_minor": 5
}
