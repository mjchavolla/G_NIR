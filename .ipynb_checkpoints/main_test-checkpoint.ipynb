{
 "cells": [
  {
   "cell_type": "markdown",
   "id": "7588825b",
   "metadata": {},
   "source": [
    "## Testssss"
   ]
  },
  {
   "cell_type": "code",
   "execution_count": 1,
   "id": "c903e226",
   "metadata": {
    "scrolled": false
   },
   "outputs": [],
   "source": [
    "import import_ipynb\n",
    "import numpy as np\n",
    "from s_test import Spectrum\n",
    "from p_test import Parameters"
   ]
  },
  {
   "cell_type": "code",
   "execution_count": 2,
   "id": "5591df8c",
   "metadata": {
    "scrolled": false
   },
   "outputs": [
    {
     "ename": "SyntaxError",
     "evalue": "invalid syntax (4000611382.py, line 15)",
     "output_type": "error",
     "traceback": [
      "\u001b[1;36m  Input \u001b[1;32mIn [2]\u001b[1;36m\u001b[0m\n\u001b[1;33m    spectrum.convolve_spectrum(parameters=params, apply_convolution=True).\u001b[0m\n\u001b[1;37m                                                                          ^\u001b[0m\n\u001b[1;31mSyntaxError\u001b[0m\u001b[1;31m:\u001b[0m invalid syntax\n"
     ]
    }
   ],
   "source": [
    "def main():\n",
    "    \"\"\"\n",
    "    Main function to control the simulation flow.\n",
    "    \"\"\"\n",
    "    params = Parameters()\n",
    "    spectrum = Spectrum()\n",
    "\n",
    "    #dirac_spectrum.txt\n",
    "    #gaia_055000450000.txt\n",
    "    \n",
    "    spectrum.load_spectrum(\"gaia_055000450000.txt\")\n",
    "    spectrum.convert_units(parameters=params)\n",
    "    \n",
    "    #original_spectrum = spectrum.copy()\n",
    "    spectrum.convolve_spectrum(parameters=params, apply_convolution=True).plot_comparison(reference_spectrum=original_spectrum, \n",
    "                             processed_label=\"Convolved Spectrum\", processed_color=\"red\", processed_linestyle=\"-\", \n",
    "                             original_label=\"Original Spectrum\", original_color=\"pink\", original_linestyle=\"--\")\n",
    "\n",
    "    original_spectrum = spectrum.copy()\n",
    "    spectrum.resample_spectrum(parameters=params, verbose=True).plot_comparison(reference_spectrum=original_spectrum, \n",
    "                             processed_label=\"Resampled Spectrum\", processed_color=\"blue\", processed_linestyle=\"-\",\n",
    "                             original_label=\"Original Spectrum\", original_color=\"lightblue\", original_linestyle=\"-\", original_linewidth=5,processed_linewidth=0.7)\n",
    "\n",
    "\n",
    "\n",
    "    spectrum.plot_comparison(reference_spectrum=original_spectrum, display_type=\"both\",processed_color=\"blue\", processed_linestyle=\"-\",\n",
    "                             original_label=\"Original Spectrum\", original_color=\"lightblue\", original_linestyle=\"-\", original_linewidth=5,processed_linewidth=0.7, zoom=(8550, 8650))\n",
    "\n",
    "    \n",
    "    spectrum.rescale_flux(parameters=params, verbose=True)\n",
    "\n",
    "    for i in range(params.num_output_spectra):\n",
    "        spectrum.radial_velocity_shift(verbose=(i == 0))  \n",
    "        spectrum.resample_stochastic(verbose=(i == 0))  \n",
    "        spectrum.generate_noise(parameters=params, verbose=(i == 0))  \n",
    "        spectrum.save_spectrum(output_file=f\"output_spectrum_{i+1:03d}.txt\")\n",
    "\n",
    "    print(\"Simulation complete.\")\n",
    "\n",
    "if __name__ == \"__main__\":\n",
    "    main()\n"
   ]
  },
  {
   "cell_type": "markdown",
   "id": "46479b08",
   "metadata": {},
   "source": [
    "ADD UNIT TEST WITH FLAT SPECRTA, ALREADY SCALED AT 100 AND ONLY APPLY GENERATE NOISE METHOD, THEN CHECK SNR AND STAND DEV AND ALL THAT TO MAKE SURE ITS THE SAME, USE A SNR OF 10 MAYBE"
   ]
  },
  {
   "cell_type": "code",
   "execution_count": null,
   "id": "c1012076",
   "metadata": {},
   "outputs": [],
   "source": []
  }
 ],
 "metadata": {
  "kernelspec": {
   "display_name": "Python 3 (ipykernel)",
   "language": "python",
   "name": "python3"
  },
  "language_info": {
   "codemirror_mode": {
    "name": "ipython",
    "version": 3
   },
   "file_extension": ".py",
   "mimetype": "text/x-python",
   "name": "python",
   "nbconvert_exporter": "python",
   "pygments_lexer": "ipython3",
   "version": "3.9.12"
  }
 },
 "nbformat": 4,
 "nbformat_minor": 5
}
