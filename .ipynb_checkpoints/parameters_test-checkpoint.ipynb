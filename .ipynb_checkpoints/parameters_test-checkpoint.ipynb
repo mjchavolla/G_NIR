{
 "cells": [
  {
   "cell_type": "markdown",
   "id": "548c88ed",
   "metadata": {},
   "source": [
    "# Parameter Class GAIA-NIR"
   ]
  },
  {
   "cell_type": "code",
   "execution_count": 9,
   "id": "c210cbd4",
   "metadata": {},
   "outputs": [],
   "source": [
    "class Parameters:\n",
    "    \"\"\"\n",
    "    Class to handle simulation parameters.\n",
    "    \"\"\"\n",
    "    def __init__(self):\n",
    "    \n",
    "        #Initialize default simulation parameters.\n",
    "    \n",
    "        print(\"Initializing default parameters\")\n",
    "        self.convert_units = True\n",
    "        self.degrade_resolving_power = True\n",
    "        self.extract_sub_spectrum = True\n",
    "        self.resample = True\n",
    "        self.generate_photon_noise = True\n",
    "        self.shift_in_radial_velocity = True\n",
    "        self.resolution_input = 10000\n",
    "        self.resolution_output = 5000\n",
    "        self.signal_to_noise_ratio = 50\n",
    "        self.radial_velocity = 30\n",
    "        self.sampling_method = \"interp\"\n",
    "        self.new_sampling_rate = 0.1\n",
    "        self.num_output_spectra = 3  "
   ]
  },
  {
   "cell_type": "code",
   "execution_count": 2,
   "id": "b7e8dc94",
   "metadata": {},
   "outputs": [],
   "source": [
    "\n"
   ]
  },
  {
   "cell_type": "code",
   "execution_count": null,
   "id": "1534cea9",
   "metadata": {},
   "outputs": [],
   "source": []
  }
 ],
 "metadata": {
  "kernelspec": {
   "display_name": "Python 3 (ipykernel)",
   "language": "python",
   "name": "python3"
  },
  "language_info": {
   "codemirror_mode": {
    "name": "ipython",
    "version": 3
   },
   "file_extension": ".py",
   "mimetype": "text/x-python",
   "name": "python",
   "nbconvert_exporter": "python",
   "pygments_lexer": "ipython3",
   "version": "3.9.12"
  }
 },
 "nbformat": 4,
 "nbformat_minor": 5
}
