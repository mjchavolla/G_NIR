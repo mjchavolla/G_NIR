{
 "cells": [
  {
   "cell_type": "markdown",
   "id": "901b6b9e",
   "metadata": {},
   "source": [
    "# Spectrum Class GAIA-NIR"
   ]
  },
  {
   "cell_type": "code",
   "execution_count": 14,
   "id": "2f48374b",
   "metadata": {},
   "outputs": [],
   "source": [
    "import numpy as np\n",
    "import matplotlib.pyplot as plt\n",
    "from scipy.interpolate import interp1d\n",
    "from scipy.ndimage import gaussian_filter1d\n",
    "\n",
    "class Spectrum:\n",
    "    \"\"\"\n",
    "    Class to manage spectrum data and operations.\n",
    "    \"\"\"\n",
    "\n",
    "    def __init__(self):\n",
    "        self.wavelength = []\n",
    "        self.flux = []\n",
    "\n",
    "    def load_spectrum(self, file_name):\n",
    "        \"\"\"\n",
    "        Load input spectrum from a file and parse data.\n",
    "        Args:\n",
    "            file_name (str): Path to the spectrum file if not in working directory.\n",
    "        \"\"\"\n",
    "        print(f\"Loading spectrum from {file_name}\")\n",
    "        try:\n",
    "            data = np.loadtxt(file_name, skiprows=1)  \n",
    "            self.wavelength = data[:, 0]  # First column \n",
    "            self.flux = data[:, 1]        # Second column\n",
    "            print(\"Spectrum loaded correctly\")\n",
    "        except Exception as e:\n",
    "            print(f\"Error loading spectrum:(: {e}\")\n",
    "            \n",
    "    def resample_and_convolve(self, new_wavelength_grid, sigma):\n",
    "        \"\"\"\n",
    "        Resample the spectrum onto a new wavelength grid and convolve with a Gaussian.\n",
    "        Args:\n",
    "            wavelength_grid (numpy array): The new wavelength grid to resample onto.\n",
    "            sigma (float): Standard deviation of the Gaussian for convolution.\n",
    "        \"\"\"\n",
    "        print(\"Resampling spectrum onto new wavelength grid\")\n",
    "        \n",
    "        # Save original spectrum for visualization\n",
    "        self.original_wavelength = self.wavelength.copy()\n",
    "        self.original_flux = self.flux.copy()\n",
    "        \n",
    "        # Interpolate the spectrum onto the new grid\n",
    "        interpolator = interp1d(self.wavelength, self.flux, kind=\"linear\", bounds_error=False, fill_value=0)\n",
    "        resampled_flux = interpolator(new_wavelength_grid)\n",
    "        print(\"Applying Gaussian convolution\")\n",
    "        \n",
    "        \n",
    "        # Convolve the resampled spectrum with a Gaussian kernel\n",
    "        convolved_flux = gaussian_filter1d(resampled_flux, sigma)\n",
    "\n",
    "        # Update \n",
    "        self.wavelength = new_wavelength_grid\n",
    "        self.flux = convolved_flux\n",
    "        print(\"Resampling and convolution completed.\")            \n",
    "\n",
    "        \n",
    "    def plot_comparison(self):\n",
    "        \"\"\"\n",
    "        Plot the spectrum before and after convolution for visualization.\n",
    "        \"\"\"\n",
    "        if self.original_wavelength is None or self.original_flux is None:\n",
    "            print(\"Original spectrum not found. Ensure to call resample_and_convolve first.\")\n",
    "            return\n",
    "        \n",
    "        plt.figure(figsize=(15, 10))\n",
    "        plt.plot(self.original_wavelength, self.original_flux, label=\"Original Spectrum\", color=\"navy\")\n",
    "        plt.plot(self.wavelength, self.flux, label=\"Convolved Spectrum\", color=\"Red\", linestyle=\"--\")\n",
    "        plt.xlabel(\"Wavelength\")\n",
    "        plt.ylabel(\"Flux\")\n",
    "        plt.legend()\n",
    "        plt.grid(True)\n",
    "        plt.show()        \n",
    "\n",
    "    def convert_units(self):\n",
    "        print(\"Converting units\")\n",
    "\n",
    "    def rescale_flux(self):\n",
    "        print(\"Rescaling flux levels\")\n",
    "\n",
    "    def radial_velocity_shift(self):\n",
    "        print(\"Applying radial velocity shift\")\n",
    "\n",
    "    def resample_stochastic(self):\n",
    "        print(\"Resampling spectrum for stochastic process\")\n",
    "\n",
    "    def generate_noise(self):\n",
    "        print(\"Adding noise to spectrum\")\n",
    "\n",
    "    def save_spectrum(self, file_name=\"output_spectrum.txt\"):\n",
    "        print(f\"Saving spectrum to {file_name}\")\n"
   ]
  },
  {
   "cell_type": "markdown",
   "id": "5f0adb37",
   "metadata": {},
   "source": [
    "## Function Convolve & Resample"
   ]
  },
  {
   "cell_type": "markdown",
   "id": "a7da2ee2",
   "metadata": {},
   "source": [
    "We will combine the degrade_resolution and resample_sepctrum funciton into one. The convolution and resampling process involves convolving the spectrum with a Gaussian profile (to degrade its resolution) and resampling it onto a new wavelength grid."
   ]
  },
  {
   "cell_type": "markdown",
   "id": "bc6b2ad3",
   "metadata": {},
   "source": [
    "### LIbraries to use to do the convolution and resampling \n",
    "\n",
    "We can also use from scipy.interpolate import interp1d for the interpolation.\n",
    "\n",
    "We can use mainly the scipy library. The scipy.ndimage.gaussian_filter1d applies a Gaussian convolution along a 1D array. \n",
    "\n",
    "We can also use numpy directly. I will try both to see which one works better."
   ]
  }
 ],
 "metadata": {
  "kernelspec": {
   "display_name": "Python 3 (ipykernel)",
   "language": "python",
   "name": "python3"
  },
  "language_info": {
   "codemirror_mode": {
    "name": "ipython",
    "version": 3
   },
   "file_extension": ".py",
   "mimetype": "text/x-python",
   "name": "python",
   "nbconvert_exporter": "python",
   "pygments_lexer": "ipython3",
   "version": "3.9.12"
  }
 },
 "nbformat": 4,
 "nbformat_minor": 5
}
