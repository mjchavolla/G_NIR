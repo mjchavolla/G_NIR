{
 "cells": [
  {
   "cell_type": "markdown",
   "id": "838ec5a0",
   "metadata": {},
   "source": [
    "# Parameter Class GAIA-NIR"
   ]
  },
  {
   "cell_type": "code",
   "execution_count": 10,
   "id": "2f48374b",
   "metadata": {},
   "outputs": [],
   "source": [
    "import numpy as np  \n",
    "import matplotlib.pyplot as plt \n",
    "\n",
    "class Spectrum:\n",
    "    \"\"\"\n",
    "    Class to manage spectrum data and operations.\n",
    "    \"\"\"\n",
    "\n",
    "    def __init__(self):\n",
    "        self.wavelength = []\n",
    "        self.flux = []\n",
    "\n",
    "    def load_spectrum(self, file_name):\n",
    "        \"\"\"\n",
    "        Load input spectrum from a file and parse data.\n",
    "        Args:\n",
    "            file_name (str): Path to the spectrum file if not in working directory.\n",
    "        \"\"\"\n",
    "        print(f\"Loading spectrum from {file_name}\")\n",
    "        try:\n",
    "            data = np.loadtxt(file_name, skiprows=1)  \n",
    "            self.wavelength = data[:, 0]  # First column \n",
    "            self.flux = data[:, 1]        # Second column\n",
    "            print(\"Spectrum loaded correctly\")\n",
    "        except Exception as e:\n",
    "            print(f\"Error loading spectrum:(: {e}\")\n",
    "    \n",
    "    def plot_spectrum(self):\n",
    "        \"\"\"\n",
    "        Plot the spectrum data for visualization.\n",
    "        \"\"\"\n",
    "        if len(self.wavelength) == 0 or len(self.flux) == 0:\n",
    "            print(\"Spectrum data is empty. Load the spectrum first.\")\n",
    "            return\n",
    "        \n",
    "        plt.figure(figsize=(15, 10))\n",
    "        plt.plot(self.wavelength, self.flux, color='navy', linewidth=0.7)\n",
    "        plt.xlabel(\"Wavelength\")\n",
    "        plt.ylabel(\"Flux\")\n",
    "        plt.title(\"Synthetic Gaia Data\")\n",
    "        plt.grid(True)\n",
    "        plt.show()\n",
    "\n",
    "    def convert_units(self):\n",
    "        print(\"Converting units\")\n",
    "\n",
    "    def degrade_resolution(self):\n",
    "        print(\"Degrading resolution\")\n",
    "\n",
    "    def resample_spectrum(self):\n",
    "        print(\"Resampling spectrum\")\n",
    "\n",
    "    def rescale_flux(self):\n",
    "        print(\"Rescaling flux levels\")\n",
    "\n",
    "    def radial_velocity_shift(self):\n",
    "        print(\"Applying radial velocity shift\")\n",
    "\n",
    "    def resample_stochastic(self):\n",
    "        print(\"Resampling spectrum for stochastic process\")\n",
    "\n",
    "    def generate_noise(self):\n",
    "        print(\"Adding noise to spectrum\")\n",
    "\n",
    "    def save_spectrum(self, file_name=\"output_spectrum.txt\"):\n",
    "        print(f\"Saving spectrum to {file_name}\")\n"
   ]
  },
  {
   "cell_type": "code",
   "execution_count": null,
   "id": "6c095a80",
   "metadata": {},
   "outputs": [],
   "source": []
  }
 ],
 "metadata": {
  "kernelspec": {
   "display_name": "Python 3 (ipykernel)",
   "language": "python",
   "name": "python3"
  },
  "language_info": {
   "codemirror_mode": {
    "name": "ipython",
    "version": 3
   },
   "file_extension": ".py",
   "mimetype": "text/x-python",
   "name": "python",
   "nbconvert_exporter": "python",
   "pygments_lexer": "ipython3",
   "version": "3.9.12"
  }
 },
 "nbformat": 4,
 "nbformat_minor": 5
}
